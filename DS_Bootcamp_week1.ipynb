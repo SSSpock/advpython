{
  "nbformat": 4,
  "nbformat_minor": 0,
  "metadata": {
    "colab": {
      "provenance": [],
      "authorship_tag": "ABX9TyPuBoWKY6WPfqVd/YibieOc",
      "include_colab_link": true
    },
    "kernelspec": {
      "name": "python3",
      "display_name": "Python 3"
    },
    "language_info": {
      "name": "python"
    }
  },
  "cells": [
    {
      "cell_type": "markdown",
      "metadata": {
        "id": "view-in-github",
        "colab_type": "text"
      },
      "source": [
        "<a href=\"https://colab.research.google.com/github/SSSpock/advpython/blob/main/DS_Bootcamp_week1.ipynb\" target=\"_parent\"><img src=\"https://colab.research.google.com/assets/colab-badge.svg\" alt=\"Open In Colab\"/></a>"
      ]
    },
    {
      "cell_type": "code",
      "execution_count": null,
      "metadata": {
        "id": "E-fXXpcqnDhD"
      },
      "outputs": [],
      "source": [
        "s = 'Udacity'\n",
        "\n",
        "# Access an element by index, starting at position 0.\n",
        "s[0] == 'U'\n",
        "s[1] == 'd'\n",
        "s[4] == 'i'\n",
        "s[7] # Bad\n",
        "\n",
        "# Access an element by a negative index, starting at the end.\n",
        "s[-1] == 'y'\n",
        "s[-2] == 't'\n",
        "s[-4] == 'c'\n",
        "s[-7] == 'U'"
      ]
    },
    {
      "cell_type": "code",
      "source": [
        "s[0:2] == 'Ud'\n",
        "s[4:7] == 'ity'\n",
        "s[1:5] == 'daci'"
      ],
      "metadata": {
        "id": "Wm-E36t7nUPl"
      },
      "execution_count": null,
      "outputs": []
    },
    {
      "cell_type": "code",
      "source": [
        "s[1:5:2] == 'dc'\n",
        "s[4::-2] == 'iaU'"
      ],
      "metadata": {
        "id": "O1xcWKmSnW-5"
      },
      "execution_count": null,
      "outputs": []
    },
    {
      "cell_type": "code",
      "source": [
        "# List Methods\n",
        "# Extend list by appending elements from the iterable\n",
        "my_list.extend(iterable)\n",
        "\n",
        "# Insert object before index\n",
        "my_list.insert(index, object)\n",
        "\n",
        "# Remove first occurrence of value, or raise ValueError\n",
        "my_list.remove(value)\n",
        "\n",
        "# Remove all items\n",
        "my_list.clear()\n",
        "\n",
        "# Return number of occurrences of value\n",
        "my_list.count(value)\n",
        "\n",
        "# Return first index of value, or raise ValueError\n",
        "my_list.index(value, [start, [stop]])\n",
        "\n",
        "# Remove, return item at index (def. last) or IndexError\n",
        "my_list.pop([index])\n",
        "\n",
        "# Stable sort *in place*\n",
        "my_list.sort(key=None, reverse=False)\n",
        "\n",
        "# Reverse *in place*.\n",
        "my_list.reverse()"
      ],
      "metadata": {
        "id": "KNG-MZDRnbEL"
      },
      "execution_count": null,
      "outputs": []
    },
    {
      "cell_type": "code",
      "source": [
        "# Tuples as immutable collections\n",
        "fish = (1, 2, \"red\", \"blue\")  # Create a tuple.\n",
        "\n",
        "fish[0]  # => 1\n",
        "fish[0] = 7  # Raises a TypeError. Tuples are immutable!\n",
        "\n",
        "# Usual sequence methods work.\n",
        "len(fish)  # => 4\n",
        "fish[:2]  # => (1, 2)\n",
        "\"red\" in fish  # => True\n",
        "empty = ()\n",
        "len(empty)      # => 0\n",
        "\n",
        "singleton = (\"value\",)\n",
        "plain_string = \"value\"  # Note plain_string != singleton\n",
        "len(singleton)  # => 1\n",
        "\n",
        "# Tuples contain (immutable) references to underlying objects!\n",
        "v = ([1, 2, 3], ['a', 'b', 'c'])\n",
        "v[0].append(4)\n",
        "v  # => ([1, 2, 3, 4], ['a', 'b', 'c'])\n",
        "\n",
        "# Packing & unpacking\n",
        "t = 12345, 54321, 'hello!'\n",
        "print(t)  # (12345, 54321, 'hello!')\n",
        "type(t)  # => tuple\n",
        "\n",
        "x, y, z = t\n",
        "x  # => 12345\n",
        "y  # => 54321\n",
        "z  # => 'hello!\n",
        "\n",
        "first, *rest = 1, 2, 3, 4, 5\n",
        "print(first)  # => 1\n",
        "print(rest)  # => [2, 3, 4, 5]"
      ],
      "metadata": {
        "id": "neFrkNi7nsa3"
      },
      "execution_count": null,
      "outputs": []
    },
    {
      "cell_type": "code",
      "source": [
        "# Student Excercise\n",
        "# Slicing\n",
        "hello = 'Hello, world!'\n",
        "\n",
        "a = hello[]  # Turn me into 'H'\n",
        "b = hello[]  # Turn me into 'd'\n",
        "c = hello[]  # Turn me into 'ello'\n",
        "d = hello[]  # Turn me into 'world!'\n",
        "e = hello[]  # Turn me into 'Hlo ol!'\n",
        "f = hello[]  # Turn me into '!dlrow ,olleH'"
      ],
      "metadata": {
        "id": "nCBBBoqJoPfA"
      },
      "execution_count": null,
      "outputs": []
    },
    {
      "cell_type": "code",
      "source": [
        "# Dictionaries\n",
        "\n",
        "# Create an empty dictionary.\n",
        "empty = {}\n",
        "type(empty)      # => dict\n",
        "empty == dict()  # => True\n",
        "\n",
        "# Create a dictionary with key:value pairings.\n",
        "a = dict(one=1, two=2, three=3)\n",
        "b = {'one': 1, 'two': 2, 'three': 3}\n",
        "c = dict(zip(['one', 'two', 'three'], [1, 2, 3]))\n",
        "d = dict([('two', 2), ('one', 1), ('three', 3)])\n",
        "e = dict({'three': 3, 'one': 1, 'two': 2})\n",
        "f = dict({'one': 1, 'three': 3}, two=2)\n",
        "a == b == c == d == e == f  # => True\n",
        "\n",
        "d = {\"one\": 1, \"two\": 2, \"three\": 3}\n",
        "\n",
        "# Access\n",
        "d['one']  # => 1\n",
        "d['five']  # Raises an error (KeyError)!\n",
        "\n",
        "# Modify\n",
        "d['two'] = 22  # Modify an existing key\n",
        "d['four'] = 4  # Add a new key"
      ],
      "metadata": {
        "id": "npOlsbrTq4NP"
      },
      "execution_count": null,
      "outputs": []
    }
  ]
}