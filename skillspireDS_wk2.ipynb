{
  "nbformat": 4,
  "nbformat_minor": 0,
  "metadata": {
    "colab": {
      "provenance": [],
      "authorship_tag": "ABX9TyOhSLpeFnKKO659jzbduY7U",
      "include_colab_link": true
    },
    "kernelspec": {
      "name": "python3",
      "display_name": "Python 3"
    },
    "language_info": {
      "name": "python"
    }
  },
  "cells": [
    {
      "cell_type": "markdown",
      "metadata": {
        "id": "view-in-github",
        "colab_type": "text"
      },
      "source": [
        "<a href=\"https://colab.research.google.com/github/SSSpock/advpython/blob/main/skillspireDS_wk2.ipynb\" target=\"_parent\"><img src=\"https://colab.research.google.com/assets/colab-badge.svg\" alt=\"Open In Colab\"/></a>"
      ]
    },
    {
      "cell_type": "markdown",
      "source": [
        "# Intro to Data Structures"
      ],
      "metadata": {
        "id": "X4IhEDV8fLiv"
      }
    },
    {
      "cell_type": "markdown",
      "source": [
        "## Series"
      ],
      "metadata": {
        "id": "ulc_6F-Lfzyx"
      }
    },
    {
      "cell_type": "code",
      "source": [
        "import numpy as np\n",
        "import pandas as pd"
      ],
      "metadata": {
        "id": "5AjHbINXfPFW"
      },
      "execution_count": 2,
      "outputs": []
    },
    {
      "cell_type": "markdown",
      "source": [
        "Series is a one-dimensional labeled array capable of holding any data type (integers, strings, floating point numbers, Python objects, etc.). The axis labels are collectively referred to as the index. The basic method to create a Series is to call:"
      ],
      "metadata": {
        "id": "zEqQfiy8fZAk"
      }
    },
    {
      "cell_type": "code",
      "source": [
        "s = pd.Series(data, index=index)"
      ],
      "metadata": {
        "id": "vawEPKfQfZhX"
      },
      "execution_count": null,
      "outputs": []
    },
    {
      "cell_type": "markdown",
      "source": [
        "Here, data can be many different things:\n",
        "a Python dict\n",
        "an ndarray\n",
        "a scalar value (like 5)"
      ],
      "metadata": {
        "id": "EJ0-k3XOfc_1"
      }
    },
    {
      "cell_type": "code",
      "source": [
        "s = pd.Series(np.random.randn(5), index=[\"a\", \"b\", \"c\", \"d\", \"e\"])\n",
        "\n",
        "s.index"
      ],
      "metadata": {
        "id": "D7biTex8fmRC"
      },
      "execution_count": null,
      "outputs": []
    },
    {
      "cell_type": "code",
      "source": [
        "# Series can be instantiated from dicts\n",
        "d = {\"b\": 1, \"a\": 0, \"c\": 2}\n",
        "\n",
        "pd.Series(d)"
      ],
      "metadata": {
        "id": "lS-U0heBfzDK"
      },
      "execution_count": null,
      "outputs": []
    },
    {
      "cell_type": "markdown",
      "source": [
        "Series acts very similarly to a ndarray and is a valid argument to most NumPy functions. However, operations such as slicing will also slice the index."
      ],
      "metadata": {
        "id": "I96EvsjOgIQh"
      }
    },
    {
      "cell_type": "code",
      "source": [
        "s[0]\n",
        "\n",
        "s[:3]\n",
        "\n",
        "s[s > s.median()]\n",
        "\n",
        "s[[4,3,1]]\n",
        "\n",
        "np.exp(s)"
      ],
      "metadata": {
        "id": "XA7Y888af5Fk"
      },
      "execution_count": null,
      "outputs": []
    },
    {
      "cell_type": "code",
      "source": [
        "# series like arrays have a single Data Type\n",
        "s.dtype"
      ],
      "metadata": {
        "id": "Zyn_MFbEgVlF"
      },
      "execution_count": null,
      "outputs": []
    },
    {
      "cell_type": "code",
      "source": [
        "# A series is like a dict\n",
        "\n",
        "s[\"a\"]\n",
        "\n",
        "s[\"e\"] = 12\n",
        "\n",
        "\"e\" in s\n",
        "\n",
        "\"f\" in s"
      ],
      "metadata": {
        "id": "X3d6c6LpgejL"
      },
      "execution_count": null,
      "outputs": []
    },
    {
      "cell_type": "code",
      "source": [
        "# Vectorized Operations and label alignment\n",
        "\n",
        "s + s\n",
        "\n",
        "s * 2\n",
        "\n",
        "np.exp(s)"
      ],
      "metadata": {
        "id": "s_bKObeDguJC"
      },
      "execution_count": null,
      "outputs": []
    },
    {
      "cell_type": "code",
      "source": [
        "# A series has advantages over an array.  Operations between series automatically align based on the label.\n",
        "\n",
        "s[1:] + s{:-1}"
      ],
      "metadata": {
        "id": "6-c68_8Fg4iD"
      },
      "execution_count": null,
      "outputs": []
    },
    {
      "cell_type": "markdown",
      "source": [
        "The result of an operation between unaligned Series will have the union of the indexes involved. If a label is not found in one Series or the other, the result will be marked as missing NaN. Being able to write code without doing any explicit data alignment grants immense freedom and flexibility in interactive data analysis and research. The integrated data alignment features of the pandas data structures set pandas apart from the majority of related tools for working with labeled data."
      ],
      "metadata": {
        "id": "jsDnez3zhGNs"
      }
    },
    {
      "cell_type": "markdown",
      "source": [
        "## Data Frames\n"
      ],
      "metadata": {
        "id": "wWfovwYnf2v4"
      }
    },
    {
      "cell_type": "markdown",
      "source": [
        "# Object Creation"
      ],
      "metadata": {
        "id": "SOw-j2UEbMv7"
      }
    },
    {
      "cell_type": "code",
      "execution_count": null,
      "metadata": {
        "id": "hBmUD8nsKJC3"
      },
      "outputs": [],
      "source": [
        "# This week we are focused on the Pandas Library\n",
        "\n",
        "# Creating a Series by passing a list of values, letting pandas create a default integer index:\n",
        "s = pd.Series([1, 3, 5, np.nan, 6, 8])"
      ]
    },
    {
      "cell_type": "code",
      "source": [
        "# Creating a DataFrame by passing a NumPy array, with a datetime index using date_range() and labeled columns:\n",
        "\n",
        "dates = pd.date_range(\"20130101\", periods=6)\n",
        "\n",
        "dates\n"
      ],
      "metadata": {
        "id": "wZo2SMk_bG4Q"
      },
      "execution_count": null,
      "outputs": []
    },
    {
      "cell_type": "code",
      "source": [
        "df = pd.DataFrame(np.random.randn(6, 4), index=dates, columns=list(\"ABCD\"))\n",
        "df"
      ],
      "metadata": {
        "id": "ounkVYhUbZdF"
      },
      "execution_count": null,
      "outputs": []
    },
    {
      "cell_type": "code",
      "source": [
        "# Creating a DataFrame by passing a dictionary of objects that can be converted into a series-like structure:\n",
        "\n",
        "df2 = pd.DataFrame(\n",
        "    {\n",
        "        \"A\": 1.0,\n",
        "        \"B\": pd.Timestamp(\"20130102\"),\n",
        "        \"C\": pd.Series(1, index=list(range(4)), dtype=\"float32\"),\n",
        "        \"D\": np.array([3] * 4, dtype=\"int32\"),\n",
        "        \"E\": pd.Categorical([\"test\", \"train\", \"test\", \"train\"]),\n",
        "        \"F\": \"foo\",\n",
        "    }\n",
        ")\n",
        "\n",
        "df2"
      ],
      "metadata": {
        "id": "PkintHGFbipW"
      },
      "execution_count": null,
      "outputs": []
    },
    {
      "cell_type": "code",
      "source": [
        "df2.types"
      ],
      "metadata": {
        "id": "0cimpD0nbobW"
      },
      "execution_count": null,
      "outputs": []
    },
    {
      "cell_type": "code",
      "source": [
        "# from dict of arrays/lists\n",
        "d = {\"one\": [1.0, 2.0, 3.0, 4.0], \"two\": [4.0, 3.0, 2.0, 1.0]}\n",
        "\n"
      ],
      "metadata": {
        "id": "DJljCCOuhQ93"
      },
      "execution_count": null,
      "outputs": []
    },
    {
      "cell_type": "code",
      "source": [
        "data = np.zeros((2,), dtype=[(\"A\", \"i4\"), (\"B\", \"f4\"), (\"C\", \"a10\")])\n",
        "\n",
        "data[:] = [(1, 2.0, \"Hello\"), (2, 3.0, \"World\")]\n",
        "\n",
        "pd.DataFrame(data)\n",
        "\n",
        "pd.DataFrame(data, index=[\"first\", \"second\"])\n",
        "\n",
        "pd.DataFrame(data, columns=[\"C\", \"A\", \"B\"])"
      ],
      "metadata": {
        "id": "VaCmZLh3hYGj"
      },
      "execution_count": null,
      "outputs": []
    },
    {
      "cell_type": "code",
      "source": [
        "# From a dict of tuples\n",
        "\n",
        "pd.DataFrame(\n",
        "    {\n",
        "        (\"a\", \"b\"): {(\"A\", \"B\"): 1, (\"A\", \"C\"): 2},\n",
        "        (\"a\", \"a\"): {(\"A\", \"C\"): 3, (\"A\", \"B\"): 4},\n",
        "        (\"a\", \"c\"): {(\"A\", \"B\"): 5, (\"A\", \"C\"): 6},\n",
        "        (\"b\", \"a\"): {(\"A\", \"C\"): 7, (\"A\", \"B\"): 8},\n",
        "        (\"b\", \"b\"): {(\"A\", \"D\"): 9, (\"A\", \"B\"): 10},\n",
        "    }\n",
        ")"
      ],
      "metadata": {
        "id": "OzCuQAr5hqAn"
      },
      "execution_count": null,
      "outputs": []
    },
    {
      "cell_type": "markdown",
      "source": [
        "# Viewing Data"
      ],
      "metadata": {
        "id": "FXMnpw1ab2_7"
      }
    },
    {
      "cell_type": "code",
      "source": [
        "# Use DataFrame.head() and DataFrame.tail() to view the top and bottom rows of the frame respectively:\n",
        "\n",
        "df.head()\n",
        "\n",
        "df.tail()\n",
        "\n",
        "df.index\n",
        "\n",
        "df.columns"
      ],
      "metadata": {
        "id": "0s_knx6Hb2dM"
      },
      "execution_count": null,
      "outputs": []
    },
    {
      "cell_type": "markdown",
      "source": [
        "DataFrame.to_numpy() gives a NumPy representation of the underlying data. Note that this can be an expensive operation when your DataFrame has columns with different data types, which comes down to a fundamental difference between pandas and NumPy: NumPy arrays have one dtype for the entire array, while pandas DataFrames have one dtype per column. When you call DataFrame.to_numpy(), pandas will find the NumPy dtype that can hold all of the dtypes in the DataFrame. This may end up being object, which requires casting every value to a Python object."
      ],
      "metadata": {
        "id": "tMMWEb7ScTPR"
      }
    },
    {
      "cell_type": "code",
      "source": [
        "df.to_numpy()"
      ],
      "metadata": {
        "id": "rZbt5YlicU9n"
      },
      "execution_count": null,
      "outputs": []
    },
    {
      "cell_type": "code",
      "source": [
        "# Get fast summary statistics\n",
        "df.describe()"
      ],
      "metadata": {
        "id": "TSUixwGfccyi"
      },
      "execution_count": null,
      "outputs": []
    },
    {
      "cell_type": "code",
      "source": [
        "# Transpose your data\n",
        "df.T"
      ],
      "metadata": {
        "id": "KIPkiAvCciOZ"
      },
      "execution_count": null,
      "outputs": []
    },
    {
      "cell_type": "code",
      "source": [
        "# Sort By an axis\n",
        "df.sort_index(axis=1, ascending=False)"
      ],
      "metadata": {
        "id": "Yg7WpUHncmam"
      },
      "execution_count": null,
      "outputs": []
    },
    {
      "cell_type": "code",
      "source": [
        "# Sort by values\n",
        "df.sort_values(by='B')"
      ],
      "metadata": {
        "id": "JAkOH73sctJO"
      },
      "execution_count": null,
      "outputs": []
    },
    {
      "cell_type": "markdown",
      "source": [
        "# Selection"
      ],
      "metadata": {
        "id": "pGXL-dxmc1oq"
      }
    },
    {
      "cell_type": "markdown",
      "source": [
        "While standard Python / NumPy expressions for selecting and setting are intuitive and come in handy for interactive work, for production code, we recommend the optimized pandas data access methods, DataFrame.at(), DataFrame.iat(), DataFrame.loc() and DataFrame.iloc()."
      ],
      "metadata": {
        "id": "7maLomWac5zE"
      }
    },
    {
      "cell_type": "code",
      "source": [
        "df['A']"
      ],
      "metadata": {
        "id": "WjrS4VZnc35N"
      },
      "execution_count": null,
      "outputs": []
    },
    {
      "cell_type": "code",
      "source": [
        "df[0:3]\n",
        "\n",
        "df['20130102':'20130104']"
      ],
      "metadata": {
        "id": "IstV3lLedJes"
      },
      "execution_count": null,
      "outputs": []
    },
    {
      "cell_type": "code",
      "source": [
        "# Selection by Label\n",
        "df.loc[dates[0]]\n",
        "\n",
        "df.loc[, [\"A\", \"B\"]]"
      ],
      "metadata": {
        "id": "AyLKcGi8dVei"
      },
      "execution_count": null,
      "outputs": []
    },
    {
      "cell_type": "code",
      "source": [
        "df.loc[\"20130102\":\"20130104\", [\"A\", \"B\"]]"
      ],
      "metadata": {
        "id": "rSfWp0BEdmBH"
      },
      "execution_count": null,
      "outputs": []
    },
    {
      "cell_type": "code",
      "source": [
        "df.loc[\"20130102\", [\"A\", \"B\"]]"
      ],
      "metadata": {
        "id": "jYhgTVzRdpHU"
      },
      "execution_count": null,
      "outputs": []
    },
    {
      "cell_type": "code",
      "source": [
        "# Selecting by position\n",
        "df.iloc[3:5, 0:2]\n",
        "\n",
        "df.iloc[[1, 2, 4], [0, 2]]\n",
        "\n",
        "df.iloc[1:3, :]\n",
        "\n",
        "df.iloc[:, 1:3]"
      ],
      "metadata": {
        "id": "Q6ltiJ1qdtoA"
      },
      "execution_count": null,
      "outputs": []
    },
    {
      "cell_type": "code",
      "source": [
        "# Boolean Indexing\n",
        "df[df[\"A\"] > 0]\n",
        "\n",
        "df[df > 0]"
      ],
      "metadata": {
        "id": "SC9wCeH1d57d"
      },
      "execution_count": null,
      "outputs": []
    },
    {
      "cell_type": "code",
      "source": [
        "# Boolean filtering\n",
        "\n",
        "df2 = df.copy()\n",
        "\n",
        "df2[\"E\"] = [\"one\", \"one\", \"two\", \"three\", \"four\", \"three\"]\n",
        "\n",
        "df2\n",
        "\n",
        "df2[df2[\"E\"].isin([\"two\", \"four\"])]"
      ],
      "metadata": {
        "id": "PojTiRvxeJpz"
      },
      "execution_count": null,
      "outputs": []
    },
    {
      "cell_type": "markdown",
      "source": [
        "# Setting"
      ],
      "metadata": {
        "id": "dt9jncQOee4L"
      }
    },
    {
      "cell_type": "code",
      "source": [
        "# Setting a new column automatically ali9gns the data by the indexes\n",
        "\n",
        "s1 = pd.Series([1, 2, 3, 4, 5, 6], index=pd.date_range(\"20130102\", periods=6))\n",
        "\n",
        "df[\"F\"] = s1"
      ],
      "metadata": {
        "id": "f2UCZwaqegw-"
      },
      "execution_count": null,
      "outputs": []
    },
    {
      "cell_type": "code",
      "source": [
        "# Setting a values by label\n",
        "df.at[dates[0], \"A\"] = 0"
      ],
      "metadata": {
        "id": "TEKiyqFveyen"
      },
      "execution_count": null,
      "outputs": []
    },
    {
      "cell_type": "code",
      "source": [
        "# Setting Values by position\n",
        "df.iat[0, 1] = 0"
      ],
      "metadata": {
        "id": "h_lczfoGe3FB"
      },
      "execution_count": null,
      "outputs": []
    },
    {
      "cell_type": "markdown",
      "source": [
        "# Merge, join, concatenate\n"
      ],
      "metadata": {
        "id": "zw1gr04IYull"
      }
    },
    {
      "cell_type": "markdown",
      "source": [
        "## Concat"
      ],
      "metadata": {
        "id": "q-4PtVRxBp-A"
      }
    },
    {
      "cell_type": "code",
      "source": [
        "df1 = pd.DataFrame(\n",
        "    {\n",
        "        \"A\": [\"A0\", \"A1\", \"A2\", \"A3\"],\n",
        "        \"B\": [\"B0\", \"B1\", \"B2\", \"B3\"],\n",
        "        \"C\": [\"C0\", \"C1\", \"C2\", \"C3\"],\n",
        "        \"D\": [\"D0\", \"D1\", \"D2\", \"D3\"],\n",
        "    },\n",
        "    index=[0, 1, 2, 3],\n",
        ")\n",
        "\n",
        "df2 = pd.DataFrame(\n",
        "    {\n",
        "        \"A\": [\"A4\", \"A5\", \"A6\", \"A7\"],\n",
        "        \"B\": [\"B4\", \"B5\", \"B6\", \"B7\"],\n",
        "        \"C\": [\"C4\", \"C5\", \"C6\", \"C7\"],\n",
        "        \"D\": [\"D4\", \"D5\", \"D6\", \"D7\"],\n",
        "    },\n",
        "    index=[4, 5, 6, 7],\n",
        ")\n",
        "\n",
        "df3 = pd.DataFrame(\n",
        "    {\n",
        "        \"A\": [\"A8\", \"A9\", \"A10\", \"A11\"],\n",
        "        \"B\": [\"B8\", \"B9\", \"B10\", \"B11\"],\n",
        "        \"C\": [\"C8\", \"C9\", \"C10\", \"C11\"],\n",
        "        \"D\": [\"D8\", \"D9\", \"D10\", \"D11\"],\n",
        "    },\n",
        "    index=[8, 9, 10, 11],\n",
        ")\n",
        "\n",
        "frames = [df1, df2, df3]\n",
        "\n",
        "result = pd.concat(frames)\n"
      ],
      "metadata": {
        "id": "1g1LvgYSY06Y"
      },
      "execution_count": 3,
      "outputs": []
    },
    {
      "cell_type": "code",
      "source": [
        "result = pd.concat(frames, keys=[\"x\", \"y\", \"z\"])"
      ],
      "metadata": {
        "id": "m-hme7SOdi7X"
      },
      "execution_count": null,
      "outputs": []
    },
    {
      "cell_type": "code",
      "source": [
        "result.loc[\"y\"]"
      ],
      "metadata": {
        "id": "X-0uk3tZeo6d"
      },
      "execution_count": null,
      "outputs": []
    },
    {
      "cell_type": "markdown",
      "source": [
        "## Setting on the axis"
      ],
      "metadata": {
        "id": "AbmGxnAeAa0L"
      }
    },
    {
      "cell_type": "code",
      "source": [
        "# Set logic on the other axis\n",
        "df4 = pd.DataFrame(\n",
        "    {\n",
        "        \"B\": [\"B2\", \"B3\", \"B6\", \"B7\"],\n",
        "        \"D\": [\"D2\", \"D3\", \"D6\", \"D7\"],\n",
        "        \"F\": [\"F2\", \"F3\", \"F6\", \"F7\"],\n",
        "    },\n",
        "    index=[2, 3, 6, 7],\n",
        ")\n",
        "\n",
        "result = pd.concat([df1, df4], axis=1)\n",
        "result\n",
        "\n",
        "# Same thing with Inner Join\n",
        "result = pd.concat([df1, df4], axis=1, join=\"inner\")\n",
        "result\n",
        "\n",
        "# Using index from original index\n",
        "result = pd.concat([df1, df4], axis=1).reindex(df1.index)\n",
        "result\n",
        "\n",
        "#"
      ],
      "metadata": {
        "id": "51JDjnpheszx"
      },
      "execution_count": null,
      "outputs": []
    },
    {
      "cell_type": "code",
      "source": [
        "# Set logic on the other axis\n",
        "\n",
        "df4 = pd.DataFrame(\n",
        "    {\n",
        "        \"B\": [\"B2\", \"B3\", \"B6\", \"B7\"],\n",
        "        \"D\": [\"D2\", \"D3\", \"D6\", \"D7\"],\n",
        "        \"F\": [\"F2\", \"F3\", \"F6\", \"F7\"],\n",
        "    },\n",
        "    index=[2, 3, 6, 7],\n",
        ")"
      ],
      "metadata": {
        "id": "cpebsrjFAaS1"
      },
      "execution_count": null,
      "outputs": []
    },
    {
      "cell_type": "markdown",
      "source": [
        "What should we do when dataframes don't have a meaningful index?"
      ],
      "metadata": {
        "id": "bQT52IAwBFRW"
      }
    },
    {
      "cell_type": "code",
      "source": [
        "# Using Ignore Index\n",
        "result = pd.concat([df1, df4], ignore_index=True, sort=False)\n",
        "result"
      ],
      "metadata": {
        "id": "CrpQQcxUBK5k"
      },
      "execution_count": null,
      "outputs": []
    },
    {
      "cell_type": "markdown",
      "source": [
        "## Merge"
      ],
      "metadata": {
        "id": "3urGOoMgBvNC"
      }
    },
    {
      "cell_type": "code",
      "source": [
        "left = pd.DataFrame(\n",
        "    {\n",
        "        \"key\": [\"K0\", \"K1\", \"K2\", \"K3\"],\n",
        "        \"A\": [\"A0\", \"A1\", \"A2\", \"A3\"],\n",
        "        \"B\": [\"B0\", \"B1\", \"B2\", \"B3\"],\n",
        "    }\n",
        ")\n",
        "\n",
        "right = pd.DataFrame(\n",
        "    {\n",
        "        \"key\": [\"K0\", \"K1\", \"K2\", \"K3\"],\n",
        "        \"C\": [\"C0\", \"C1\", \"C2\", \"C3\"],\n",
        "        \"D\": [\"D0\", \"D1\", \"D2\", \"D3\"],\n",
        "    }\n",
        ")\n",
        "\n",
        "result = pd.merge(left, right, on=\"key\")\n",
        "result"
      ],
      "metadata": {
        "id": "gXX1us3zGu53",
        "outputId": "5cdd045a-c698-415e-e1e4-32bd2df11657",
        "colab": {
          "base_uri": "https://localhost:8080/",
          "height": 175
        }
      },
      "execution_count": 3,
      "outputs": [
        {
          "output_type": "execute_result",
          "data": {
            "text/plain": [
              "  key   A   B   C   D\n",
              "0  K0  A0  B0  C0  D0\n",
              "1  K1  A1  B1  C1  D1\n",
              "2  K2  A2  B2  C2  D2\n",
              "3  K3  A3  B3  C3  D3"
            ],
            "text/html": [
              "\n",
              "  <div id=\"df-a2d77aba-2a08-4f57-823e-2696b42c7c86\">\n",
              "    <div class=\"colab-df-container\">\n",
              "      <div>\n",
              "<style scoped>\n",
              "    .dataframe tbody tr th:only-of-type {\n",
              "        vertical-align: middle;\n",
              "    }\n",
              "\n",
              "    .dataframe tbody tr th {\n",
              "        vertical-align: top;\n",
              "    }\n",
              "\n",
              "    .dataframe thead th {\n",
              "        text-align: right;\n",
              "    }\n",
              "</style>\n",
              "<table border=\"1\" class=\"dataframe\">\n",
              "  <thead>\n",
              "    <tr style=\"text-align: right;\">\n",
              "      <th></th>\n",
              "      <th>key</th>\n",
              "      <th>A</th>\n",
              "      <th>B</th>\n",
              "      <th>C</th>\n",
              "      <th>D</th>\n",
              "    </tr>\n",
              "  </thead>\n",
              "  <tbody>\n",
              "    <tr>\n",
              "      <th>0</th>\n",
              "      <td>K0</td>\n",
              "      <td>A0</td>\n",
              "      <td>B0</td>\n",
              "      <td>C0</td>\n",
              "      <td>D0</td>\n",
              "    </tr>\n",
              "    <tr>\n",
              "      <th>1</th>\n",
              "      <td>K1</td>\n",
              "      <td>A1</td>\n",
              "      <td>B1</td>\n",
              "      <td>C1</td>\n",
              "      <td>D1</td>\n",
              "    </tr>\n",
              "    <tr>\n",
              "      <th>2</th>\n",
              "      <td>K2</td>\n",
              "      <td>A2</td>\n",
              "      <td>B2</td>\n",
              "      <td>C2</td>\n",
              "      <td>D2</td>\n",
              "    </tr>\n",
              "    <tr>\n",
              "      <th>3</th>\n",
              "      <td>K3</td>\n",
              "      <td>A3</td>\n",
              "      <td>B3</td>\n",
              "      <td>C3</td>\n",
              "      <td>D3</td>\n",
              "    </tr>\n",
              "  </tbody>\n",
              "</table>\n",
              "</div>\n",
              "      <button class=\"colab-df-convert\" onclick=\"convertToInteractive('df-a2d77aba-2a08-4f57-823e-2696b42c7c86')\"\n",
              "              title=\"Convert this dataframe to an interactive table.\"\n",
              "              style=\"display:none;\">\n",
              "        \n",
              "  <svg xmlns=\"http://www.w3.org/2000/svg\" height=\"24px\"viewBox=\"0 0 24 24\"\n",
              "       width=\"24px\">\n",
              "    <path d=\"M0 0h24v24H0V0z\" fill=\"none\"/>\n",
              "    <path d=\"M18.56 5.44l.94 2.06.94-2.06 2.06-.94-2.06-.94-.94-2.06-.94 2.06-2.06.94zm-11 1L8.5 8.5l.94-2.06 2.06-.94-2.06-.94L8.5 2.5l-.94 2.06-2.06.94zm10 10l.94 2.06.94-2.06 2.06-.94-2.06-.94-.94-2.06-.94 2.06-2.06.94z\"/><path d=\"M17.41 7.96l-1.37-1.37c-.4-.4-.92-.59-1.43-.59-.52 0-1.04.2-1.43.59L10.3 9.45l-7.72 7.72c-.78.78-.78 2.05 0 2.83L4 21.41c.39.39.9.59 1.41.59.51 0 1.02-.2 1.41-.59l7.78-7.78 2.81-2.81c.8-.78.8-2.07 0-2.86zM5.41 20L4 18.59l7.72-7.72 1.47 1.35L5.41 20z\"/>\n",
              "  </svg>\n",
              "      </button>\n",
              "      \n",
              "  <style>\n",
              "    .colab-df-container {\n",
              "      display:flex;\n",
              "      flex-wrap:wrap;\n",
              "      gap: 12px;\n",
              "    }\n",
              "\n",
              "    .colab-df-convert {\n",
              "      background-color: #E8F0FE;\n",
              "      border: none;\n",
              "      border-radius: 50%;\n",
              "      cursor: pointer;\n",
              "      display: none;\n",
              "      fill: #1967D2;\n",
              "      height: 32px;\n",
              "      padding: 0 0 0 0;\n",
              "      width: 32px;\n",
              "    }\n",
              "\n",
              "    .colab-df-convert:hover {\n",
              "      background-color: #E2EBFA;\n",
              "      box-shadow: 0px 1px 2px rgba(60, 64, 67, 0.3), 0px 1px 3px 1px rgba(60, 64, 67, 0.15);\n",
              "      fill: #174EA6;\n",
              "    }\n",
              "\n",
              "    [theme=dark] .colab-df-convert {\n",
              "      background-color: #3B4455;\n",
              "      fill: #D2E3FC;\n",
              "    }\n",
              "\n",
              "    [theme=dark] .colab-df-convert:hover {\n",
              "      background-color: #434B5C;\n",
              "      box-shadow: 0px 1px 3px 1px rgba(0, 0, 0, 0.15);\n",
              "      filter: drop-shadow(0px 1px 2px rgba(0, 0, 0, 0.3));\n",
              "      fill: #FFFFFF;\n",
              "    }\n",
              "  </style>\n",
              "\n",
              "      <script>\n",
              "        const buttonEl =\n",
              "          document.querySelector('#df-a2d77aba-2a08-4f57-823e-2696b42c7c86 button.colab-df-convert');\n",
              "        buttonEl.style.display =\n",
              "          google.colab.kernel.accessAllowed ? 'block' : 'none';\n",
              "\n",
              "        async function convertToInteractive(key) {\n",
              "          const element = document.querySelector('#df-a2d77aba-2a08-4f57-823e-2696b42c7c86');\n",
              "          const dataTable =\n",
              "            await google.colab.kernel.invokeFunction('convertToInteractive',\n",
              "                                                     [key], {});\n",
              "          if (!dataTable) return;\n",
              "\n",
              "          const docLinkHtml = 'Like what you see? Visit the ' +\n",
              "            '<a target=\"_blank\" href=https://colab.research.google.com/notebooks/data_table.ipynb>data table notebook</a>'\n",
              "            + ' to learn more about interactive tables.';\n",
              "          element.innerHTML = '';\n",
              "          dataTable['output_type'] = 'display_data';\n",
              "          await google.colab.output.renderOutput(dataTable, element);\n",
              "          const docLink = document.createElement('div');\n",
              "          docLink.innerHTML = docLinkHtml;\n",
              "          element.appendChild(docLink);\n",
              "        }\n",
              "      </script>\n",
              "    </div>\n",
              "  </div>\n",
              "  "
            ]
          },
          "metadata": {},
          "execution_count": 3
        }
      ]
    },
    {
      "cell_type": "code",
      "source": [
        "# Merging on Multiple Keys\n",
        "left = pd.DataFrame(\n",
        "    {\n",
        "        \"key1\": [\"K0\", \"K0\", \"K1\", \"K2\"],\n",
        "        \"key2\": [\"K0\", \"K1\", \"K0\", \"K1\"],\n",
        "        \"A\": [\"A0\", \"A1\", \"A2\", \"A3\"],\n",
        "        \"B\": [\"B0\", \"B1\", \"B2\", \"B3\"],\n",
        "    }\n",
        ")\n",
        "\n",
        "\n",
        "right = pd.DataFrame(\n",
        "    {\n",
        "        \"key1\": [\"K0\", \"K1\", \"K1\", \"K2\"],\n",
        "        \"key2\": [\"K0\", \"K0\", \"K0\", \"K0\"],\n",
        "        \"C\": [\"C0\", \"C1\", \"C2\", \"C3\"],\n",
        "        \"D\": [\"D0\", \"D1\", \"D2\", \"D3\"],\n",
        "    }\n",
        ")\n",
        "\n",
        "\n",
        "result = pd.merge(left, right, on=[\"key1\", \"key2\"])\n",
        "result"
      ],
      "metadata": {
        "id": "dXztjOxYIHtu"
      },
      "execution_count": null,
      "outputs": []
    },
    {
      "cell_type": "code",
      "source": [
        "# Using the How Method, lets play with the joins\n",
        "result = pd.merge(left, right, how=\"left\", on=[\"key1\", \"key2\"])\n"
      ],
      "metadata": {
        "id": "YRBiQaoDIP77"
      },
      "execution_count": null,
      "outputs": []
    },
    {
      "cell_type": "code",
      "source": [
        "# Checking for duplicate keys\n",
        "left = pd.DataFrame({\"A\": [1, 2], \"B\": [1, 2]})\n",
        "\n",
        "right = pd.DataFrame({\"A\": [4, 5, 6], \"B\": [2, 2, 2]})\n",
        "\n",
        "# Validate one to one\n",
        "result = pd.merge(left, right, on=\"B\", how=\"outer\", validate=\"one_to_one')\n",
        "result\n",
        "\n",
        "# Validate one to many\n",
        "result = pd.merge(left, right, on=\"B\", how=\"outer\", validate=\"one_to_many\"\n",
        "result"
      ],
      "metadata": {
        "id": "cvhDAHCTJNJ-"
      },
      "execution_count": null,
      "outputs": []
    },
    {
      "cell_type": "markdown",
      "source": [
        "## Joins"
      ],
      "metadata": {
        "id": "QegZ7vsVJr2B"
      }
    },
    {
      "cell_type": "code",
      "source": [
        "left = pd.DataFrame(\n",
        "    {\"A\": [\"A0\", \"A1\", \"A2\"], \"B\": [\"B0\", \"B1\", \"B2\"]}, index=[\"K0\", \"K1\", \"K2\"]\n",
        ")\n",
        "\n",
        "right = pd.DataFrame(\n",
        "    {\"C\": [\"C0\", \"C2\", \"C3\"], \"D\": [\"D0\", \"D2\", \"D3\"]}, index=[\"K0\", \"K2\", \"K3\"]\n",
        ")\n",
        "\n",
        "result = left.join(right)\n",
        "result"
      ],
      "metadata": {
        "id": "gVBEYEmGJqzO"
      },
      "execution_count": null,
      "outputs": []
    },
    {
      "cell_type": "code",
      "source": [
        "result = left.join(right, how=\"inner\")\n"
      ],
      "metadata": {
        "id": "BIXODcr6KewB"
      },
      "execution_count": null,
      "outputs": []
    },
    {
      "cell_type": "markdown",
      "source": [
        "## Timeseries Friendly Merging"
      ],
      "metadata": {
        "id": "QW1FcseIK5vR"
      }
    },
    {
      "cell_type": "code",
      "source": [
        "# Merge Ordered \n",
        "\n",
        "left = pd.DataFrame(\n",
        "    {\"k\": [\"K0\", \"K1\", \"K1\", \"K2\"], \"lv\": [1, 2, 3, 4], \"s\": [\"a\", \"b\", \"c\", \"d\"]}\n",
        ")\n",
        "\n",
        "right = pd.DataFrame({\"k\": [\"K1\", \"K2\", \"K4\"], \"rv\": [1, 2, 3]})\n",
        "\n",
        "# Interpolate Data with ffil\n",
        "pd.merge_ordered(left, right, fill_method=\"ffill\", left_by=\"s\")"
      ],
      "metadata": {
        "id": "gIDmx97rK91a"
      },
      "execution_count": null,
      "outputs": []
    },
    {
      "cell_type": "markdown",
      "source": [
        "# Reshaping & Pivoting"
      ],
      "metadata": {
        "id": "csJlvcDARJ5W"
      }
    },
    {
      "cell_type": "code",
      "source": [
        "import pandas as pd\n",
        "\n",
        "# create a sample data frame\n",
        "df = pd.DataFrame({'month': ['Jan', 'Feb', 'Mar', 'Jan', 'Feb', 'Mar'],\n",
        "                   'city': ['New York', 'New York', 'New York', 'London', 'London', 'London'],\n",
        "                   'revenue': [100, 200, 150, 80, 120, 90]})\n",
        "\n",
        "# display the original data frame\n",
        "print('Original data frame:')\n",
        "print(df)\n",
        "\n",
        "# use the pivot function to reshape the data\n",
        "pivot_df = df.pivot(index='month', columns='city', values='revenue')\n",
        "\n",
        "# display the pivoted data frame\n",
        "print('\\nPivoted data frame:')\n",
        "print(pivot_df)\n"
      ],
      "metadata": {
        "id": "dGjpOh27RJRb",
        "outputId": "ef1010ad-9601-46f1-acc7-a8693eb12d1a",
        "colab": {
          "base_uri": "https://localhost:8080/"
        }
      },
      "execution_count": 4,
      "outputs": [
        {
          "output_type": "stream",
          "name": "stdout",
          "text": [
            "Original data frame:\n",
            "  month      city  revenue\n",
            "0   Jan  New York      100\n",
            "1   Feb  New York      200\n",
            "2   Mar  New York      150\n",
            "3   Jan    London       80\n",
            "4   Feb    London      120\n",
            "5   Mar    London       90\n",
            "\n",
            "Pivoted data frame:\n",
            "city   London  New York\n",
            "month                  \n",
            "Feb       120       200\n",
            "Jan        80       100\n",
            "Mar        90       150\n"
          ]
        }
      ]
    },
    {
      "cell_type": "markdown",
      "source": [
        "In this example, we have a data frame that shows revenue for different cities in different months. We want to reshape the data so that we can see the revenue for each city in each month. We achieve this using the pivot() function in pandas.\n",
        "\n",
        "The pivot() function takes three arguments: index, columns, and values. The index argument specifies the column that should be used as the index in the pivoted data frame, the columns argument specifies the column that should be used as the columns in the pivoted data frame, and the values argument specifies the column that should be used as the values in the pivoted data frame.\n",
        "\n",
        "In our example, we want to use the month column as the index, the city column as the columns, and the revenue column as the values. The resulting pivoted data frame shows the revenue for each city in each month.\n",
        "\n",
        "Note that the pivot() function can also be used with multiple columns in the index and columns arguments, which can create more complex pivoted data frames."
      ],
      "metadata": {
        "id": "Hzax-x9sRwGm"
      }
    },
    {
      "cell_type": "code",
      "source": [
        "# Reshaping & Stacking\n",
        "# create a sample data frame\n",
        "df = pd.DataFrame({'month': ['Jan', 'Feb', 'Mar', 'Jan', 'Feb', 'Mar'],\n",
        "                   'city': ['New York', 'New York', 'New York', 'London', 'London', 'London'],\n",
        "                   'revenue': [100, 200, 150, 80, 120, 90]})\n",
        "\n",
        "# use the set_index function to set the index\n",
        "df = df.set_index(['month', 'city'])\n",
        "\n",
        "# display the data frame with multi-level index\n",
        "print('Data frame with multi-level index:')\n",
        "print(df)\n",
        "\n",
        "# use the unstack function to pivot the data frame\n",
        "unstacked_df = df.unstack()\n",
        "\n",
        "# display the unstacked data frame\n",
        "print('\\nUnstacked data frame:')\n",
        "print(unstacked_df)\n",
        "\n",
        "# use the stack function to stack the data frame\n",
        "stacked_df = unstacked_df.stack()\n",
        "\n",
        "# display the stacked data frame\n",
        "print('\\nStacked data frame:')\n",
        "print(stacked_df)\n"
      ],
      "metadata": {
        "id": "N5B_UcaMSedi",
        "outputId": "ed7a14d9-17aa-47fa-db71-1967d410687b",
        "colab": {
          "base_uri": "https://localhost:8080/"
        }
      },
      "execution_count": 5,
      "outputs": [
        {
          "output_type": "stream",
          "name": "stdout",
          "text": [
            "Data frame with multi-level index:\n",
            "                revenue\n",
            "month city             \n",
            "Jan   New York      100\n",
            "Feb   New York      200\n",
            "Mar   New York      150\n",
            "Jan   London         80\n",
            "Feb   London        120\n",
            "Mar   London         90\n",
            "\n",
            "Unstacked data frame:\n",
            "      revenue         \n",
            "city   London New York\n",
            "month                 \n",
            "Feb       120      200\n",
            "Jan        80      100\n",
            "Mar        90      150\n",
            "\n",
            "Stacked data frame:\n",
            "                revenue\n",
            "month city             \n",
            "Feb   London        120\n",
            "      New York      200\n",
            "Jan   London         80\n",
            "      New York      100\n",
            "Mar   London         90\n",
            "      New York      150\n"
          ]
        }
      ]
    },
    {
      "cell_type": "markdown",
      "source": [
        "In this example, we start with a data frame that has a multi-level index consisting of the month and city columns. We use the unstack() function to pivot the data frame, which creates a new data frame with the city column as the columns and the month column as the index. This makes it easier to compare revenue between the two cities.\n",
        "\n",
        "We then use the stack() function to stack the data frame back to its original shape. This creates a new data frame with a multi-level index consisting of the month and city columns. This can be useful for further analysis or visualization.\n",
        "\n",
        "Note that the stack() and unstack() functions can also be used with specific levels of the index, which can create more complex stacked and unstacked data frames. Additionally, stack() and unstack() can be chained together to create more complex data transformations."
      ],
      "metadata": {
        "id": "DeGtFUpjTuP7"
      }
    },
    {
      "cell_type": "code",
      "source": [
        "# Using the Melt Function\n",
        "\n",
        "\n",
        "# create a sample data frame\n",
        "df = pd.DataFrame({'id': [1, 2, 3],\n",
        "                   'name': ['Alice', 'Bob', 'Charlie'],\n",
        "                   'age_2019': [25, 30, 35],\n",
        "                   'age_2020': [26, 31, 36]})\n",
        "\n",
        "# display the original data frame\n",
        "print('Original data frame:')\n",
        "print(df)\n",
        "\n",
        "# use the top-level melt function to reshape the data\n",
        "melted_df = pd.melt(df, id_vars=['id', 'name'], var_name='year', value_name='age')\n",
        "\n",
        "# display the melted data frame\n",
        "print('\\nMelted data frame:')\n",
        "print(melted_df)\n",
        "\n",
        "# use the dataframe.melt() function to reshape the data\n",
        "melted_df_2 = df.melt(id_vars=['id', 'name'], var_name='year', value_name='age')\n",
        "\n",
        "# display the melted data frame\n",
        "print('\\nMelted data frame (using dataframe.melt()):')\n",
        "print(melted_df_2)"
      ],
      "metadata": {
        "id": "euLE1i90UfGp",
        "outputId": "2e1ba11d-dd8c-47ad-d2f8-9c0429663715",
        "colab": {
          "base_uri": "https://localhost:8080/"
        }
      },
      "execution_count": 6,
      "outputs": [
        {
          "output_type": "stream",
          "name": "stdout",
          "text": [
            "Original data frame:\n",
            "   id     name  age_2019  age_2020\n",
            "0   1    Alice        25        26\n",
            "1   2      Bob        30        31\n",
            "2   3  Charlie        35        36\n",
            "\n",
            "Melted data frame:\n",
            "   id     name      year  age\n",
            "0   1    Alice  age_2019   25\n",
            "1   2      Bob  age_2019   30\n",
            "2   3  Charlie  age_2019   35\n",
            "3   1    Alice  age_2020   26\n",
            "4   2      Bob  age_2020   31\n",
            "5   3  Charlie  age_2020   36\n",
            "\n",
            "Melted data frame (using dataframe.melt()):\n",
            "   id     name      year  age\n",
            "0   1    Alice  age_2019   25\n",
            "1   2      Bob  age_2019   30\n",
            "2   3  Charlie  age_2019   35\n",
            "3   1    Alice  age_2020   26\n",
            "4   2      Bob  age_2020   31\n",
            "5   3  Charlie  age_2020   36\n"
          ]
        }
      ]
    },
    {
      "cell_type": "markdown",
      "source": [
        "In this example, we have a data frame with columns for id, name, and two different years (age_2019 and age_2020). We want to reshape the data so that we have a single column for year and a single column for age, with one row for each combination of id and name.\n",
        "\n",
        "We achieve this using the melt() function in pandas. The melt() function takes several important parameters, including:\n",
        "\n",
        "id_vars: the column(s) to use as identifier variables (i.e., columns that should not be melted).\n",
        "value_vars: the column(s) to use as measured variables (i.e., columns that should be melted).\n",
        "var_name: the name to use for the column that will contain the variable names (i.e., the original column names).\n",
        "value_name: the name to use for the column that will contain the variable values (i.e., the values from the original columns).\n",
        "In our example, we specify id_vars=['id', 'name'], since we want to use both the id and name columns as identifier variables. We specify"
      ],
      "metadata": {
        "id": "UxLt8cLdUmYo"
      }
    },
    {
      "cell_type": "markdown",
      "source": [
        "## Pivot Tables & Summary Statistics\n",
        "\n"
      ],
      "metadata": {
        "id": "Y6D6g6CPT8l3"
      }
    },
    {
      "cell_type": "code",
      "source": [
        "# create a sample data frame\n",
        "df = pd.DataFrame({'month': ['Jan', 'Feb', 'Mar', 'Jan', 'Feb', 'Mar'],\n",
        "                   'city': ['New York', 'New York', 'New York', 'London', 'London', 'London'],\n",
        "                   'revenue': [100, 200, 150, 80, 120, 90]})\n",
        "\n",
        "# use pivot function to create a pivoted data frame\n",
        "pivot_df = df.pivot(index='month', columns='city', values='revenue')\n",
        "\n",
        "# use stack function to stack the data frame\n",
        "stacked_df = pivot_df.stack()\n",
        "\n",
        "# use groupby function to group by city and calculate mean revenue\n",
        "grouped_df = df.groupby('city')['revenue'].mean()\n",
        "\n",
        "# use unstack function to unstack the data frame\n",
        "unstacked_df = pivot_df.unstack()\n",
        "\n",
        "# display the results\n",
        "print('Pivoted data frame:')\n",
        "print(pivot_df)\n",
        "print('\\nStacked data frame:')\n",
        "print(stacked_df)\n",
        "print('\\nMean revenue by city:')\n",
        "print(grouped_df)\n",
        "print('\\nUnstacked data frame:')\n",
        "print(unstacked_df)"
      ],
      "metadata": {
        "id": "ctNbmNLoUAeJ"
      },
      "execution_count": null,
      "outputs": []
    },
    {
      "cell_type": "markdown",
      "source": [
        "In this example, we have a data frame that shows revenue for different cities in different months. We want to use pivot, stack, unstack, and group by to create insights from this data.\n",
        "\n",
        "We start by using the pivot() function to create a pivoted data frame, which shows the revenue for each city in each month. We then use the stack() function to stack the data frame, creating a new data frame that has a multi-level index consisting of the month and city. This can be useful for further analysis or visualization.\n",
        "\n",
        "We then use the groupby() function to group the data by city and calculate the mean revenue for each city. This provides a quick summary of the revenue data by city.\n",
        "\n",
        "Finally, we use the unstack() function to unstack the pivoted data frame, creating a new data frame that shows the revenue for each city in each month. This can be useful for comparing revenue between the two cities.\n",
        "\n",
        "Note that we could also use other statistics such as median, standard deviation, or minimum/maximum revenue instead of mean. Additionally, we could use other functions such as resample() to aggregate the revenue data over a specified time interval."
      ],
      "metadata": {
        "id": "GamT5LYbVU5J"
      }
    },
    {
      "cell_type": "code",
      "source": [],
      "metadata": {
        "id": "AAfQzRV0VSBi"
      },
      "execution_count": null,
      "outputs": []
    }
  ]
}