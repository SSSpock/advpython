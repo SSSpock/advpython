{
  "nbformat": 4,
  "nbformat_minor": 0,
  "metadata": {
    "colab": {
      "provenance": [],
      "authorship_tag": "ABX9TyNtThQE3N6dwTjsW0ic5R1L",
      "include_colab_link": true
    },
    "kernelspec": {
      "name": "python3",
      "display_name": "Python 3"
    },
    "language_info": {
      "name": "python"
    }
  },
  "cells": [
    {
      "cell_type": "markdown",
      "metadata": {
        "id": "view-in-github",
        "colab_type": "text"
      },
      "source": [
        "<a href=\"https://colab.research.google.com/github/SSSpock/advpython/blob/main/skillspireDS_wk2.ipynb\" target=\"_parent\"><img src=\"https://colab.research.google.com/assets/colab-badge.svg\" alt=\"Open In Colab\"/></a>"
      ]
    },
    {
      "cell_type": "markdown",
      "source": [
        "# Intro to Data Structures"
      ],
      "metadata": {
        "id": "X4IhEDV8fLiv"
      }
    },
    {
      "cell_type": "markdown",
      "source": [
        "## Series"
      ],
      "metadata": {
        "id": "ulc_6F-Lfzyx"
      }
    },
    {
      "cell_type": "code",
      "source": [
        "import numpy as np\n",
        "import pandas as pd"
      ],
      "metadata": {
        "id": "5AjHbINXfPFW"
      },
      "execution_count": null,
      "outputs": []
    },
    {
      "cell_type": "markdown",
      "source": [
        "Series is a one-dimensional labeled array capable of holding any data type (integers, strings, floating point numbers, Python objects, etc.). The axis labels are collectively referred to as the index. The basic method to create a Series is to call:"
      ],
      "metadata": {
        "id": "zEqQfiy8fZAk"
      }
    },
    {
      "cell_type": "code",
      "source": [
        "s = pd.Series(data, index=index)"
      ],
      "metadata": {
        "id": "vawEPKfQfZhX"
      },
      "execution_count": null,
      "outputs": []
    },
    {
      "cell_type": "markdown",
      "source": [
        "Here, data can be many different things:\n",
        "a Python dict\n",
        "an ndarray\n",
        "a scalar value (like 5)"
      ],
      "metadata": {
        "id": "EJ0-k3XOfc_1"
      }
    },
    {
      "cell_type": "code",
      "source": [
        "s = pd.Series(np.random.randn(5), index=[\"a\", \"b\", \"c\", \"d\", \"e\"])\n",
        "\n",
        "s.index"
      ],
      "metadata": {
        "id": "D7biTex8fmRC"
      },
      "execution_count": null,
      "outputs": []
    },
    {
      "cell_type": "code",
      "source": [
        "# Series can be instantiated from dicts\n",
        "d = {\"b\": 1, \"a\": 0, \"c\": 2}\n",
        "\n",
        "pd.Series(d)"
      ],
      "metadata": {
        "id": "lS-U0heBfzDK"
      },
      "execution_count": null,
      "outputs": []
    },
    {
      "cell_type": "markdown",
      "source": [
        "Series acts very similarly to a ndarray and is a valid argument to most NumPy functions. However, operations such as slicing will also slice the index."
      ],
      "metadata": {
        "id": "I96EvsjOgIQh"
      }
    },
    {
      "cell_type": "code",
      "source": [
        "s[0]\n",
        "\n",
        "s[:3]\n",
        "\n",
        "s[s > s.median()]\n",
        "\n",
        "s[[4,3,1]]\n",
        "\n",
        "np.exp(s)"
      ],
      "metadata": {
        "id": "XA7Y888af5Fk"
      },
      "execution_count": null,
      "outputs": []
    },
    {
      "cell_type": "code",
      "source": [
        "# series like arrays have a single Data Type\n",
        "s.dtype"
      ],
      "metadata": {
        "id": "Zyn_MFbEgVlF"
      },
      "execution_count": null,
      "outputs": []
    },
    {
      "cell_type": "code",
      "source": [
        "# A series is like a dict\n",
        "\n",
        "s[\"a\"]\n",
        "\n",
        "s[\"e\"] = 12\n",
        "\n",
        "\"e\" in s\n",
        "\n",
        "\"f\" in s"
      ],
      "metadata": {
        "id": "X3d6c6LpgejL"
      },
      "execution_count": null,
      "outputs": []
    },
    {
      "cell_type": "code",
      "source": [
        "# Vectorized Operations and label alignment\n",
        "\n",
        "s + s\n",
        "\n",
        "s * 2\n",
        "\n",
        "np.exp(s)"
      ],
      "metadata": {
        "id": "s_bKObeDguJC"
      },
      "execution_count": null,
      "outputs": []
    },
    {
      "cell_type": "code",
      "source": [
        "# A series has advantages over an array.  Operations between series automatically align based on the label.\n",
        "\n",
        "s[1:] + s{:-1}"
      ],
      "metadata": {
        "id": "6-c68_8Fg4iD"
      },
      "execution_count": null,
      "outputs": []
    },
    {
      "cell_type": "markdown",
      "source": [
        "The result of an operation between unaligned Series will have the union of the indexes involved. If a label is not found in one Series or the other, the result will be marked as missing NaN. Being able to write code without doing any explicit data alignment grants immense freedom and flexibility in interactive data analysis and research. The integrated data alignment features of the pandas data structures set pandas apart from the majority of related tools for working with labeled data."
      ],
      "metadata": {
        "id": "jsDnez3zhGNs"
      }
    },
    {
      "cell_type": "markdown",
      "source": [
        "## Data Frames\n"
      ],
      "metadata": {
        "id": "wWfovwYnf2v4"
      }
    },
    {
      "cell_type": "markdown",
      "source": [
        "# Object Creation"
      ],
      "metadata": {
        "id": "SOw-j2UEbMv7"
      }
    },
    {
      "cell_type": "code",
      "execution_count": null,
      "metadata": {
        "id": "hBmUD8nsKJC3"
      },
      "outputs": [],
      "source": [
        "# This week we are focused on the Pandas Library\n",
        "\n",
        "# Creating a Series by passing a list of values, letting pandas create a default integer index:\n",
        "s = pd.Series([1, 3, 5, np.nan, 6, 8])"
      ]
    },
    {
      "cell_type": "code",
      "source": [
        "# Creating a DataFrame by passing a NumPy array, with a datetime index using date_range() and labeled columns:\n",
        "\n",
        "dates = pd.date_range(\"20130101\", periods=6)\n",
        "\n",
        "dates\n"
      ],
      "metadata": {
        "id": "wZo2SMk_bG4Q"
      },
      "execution_count": null,
      "outputs": []
    },
    {
      "cell_type": "code",
      "source": [
        "df = pd.DataFrame(np.random.randn(6, 4), index=dates, columns=list(\"ABCD\"))\n",
        "df"
      ],
      "metadata": {
        "id": "ounkVYhUbZdF"
      },
      "execution_count": null,
      "outputs": []
    },
    {
      "cell_type": "code",
      "source": [
        "# Creating a DataFrame by passing a dictionary of objects that can be converted into a series-like structure:\n",
        "\n",
        "df2 = pd.DataFrame(\n",
        "    {\n",
        "        \"A\": 1.0,\n",
        "        \"B\": pd.Timestamp(\"20130102\"),\n",
        "        \"C\": pd.Series(1, index=list(range(4)), dtype=\"float32\"),\n",
        "        \"D\": np.array([3] * 4, dtype=\"int32\"),\n",
        "        \"E\": pd.Categorical([\"test\", \"train\", \"test\", \"train\"]),\n",
        "        \"F\": \"foo\",\n",
        "    }\n",
        ")\n",
        "\n",
        "df2"
      ],
      "metadata": {
        "id": "PkintHGFbipW"
      },
      "execution_count": null,
      "outputs": []
    },
    {
      "cell_type": "code",
      "source": [
        "df2.types"
      ],
      "metadata": {
        "id": "0cimpD0nbobW"
      },
      "execution_count": null,
      "outputs": []
    },
    {
      "cell_type": "code",
      "source": [
        "# from dict of arrays/lists\n",
        "d = {\"one\": [1.0, 2.0, 3.0, 4.0], \"two\": [4.0, 3.0, 2.0, 1.0]}\n",
        "\n"
      ],
      "metadata": {
        "id": "DJljCCOuhQ93"
      },
      "execution_count": null,
      "outputs": []
    },
    {
      "cell_type": "code",
      "source": [
        "data = np.zeros((2,), dtype=[(\"A\", \"i4\"), (\"B\", \"f4\"), (\"C\", \"a10\")])\n",
        "\n",
        "data[:] = [(1, 2.0, \"Hello\"), (2, 3.0, \"World\")]\n",
        "\n",
        "pd.DataFrame(data)\n",
        "\n",
        "pd.DataFrame(data, index=[\"first\", \"second\"])\n",
        "\n",
        "pd.DataFrame(data, columns=[\"C\", \"A\", \"B\"])"
      ],
      "metadata": {
        "id": "VaCmZLh3hYGj"
      },
      "execution_count": null,
      "outputs": []
    },
    {
      "cell_type": "code",
      "source": [
        "# From a dict of tuples\n",
        "\n",
        "pd.DataFrame(\n",
        "    {\n",
        "        (\"a\", \"b\"): {(\"A\", \"B\"): 1, (\"A\", \"C\"): 2},\n",
        "        (\"a\", \"a\"): {(\"A\", \"C\"): 3, (\"A\", \"B\"): 4},\n",
        "        (\"a\", \"c\"): {(\"A\", \"B\"): 5, (\"A\", \"C\"): 6},\n",
        "        (\"b\", \"a\"): {(\"A\", \"C\"): 7, (\"A\", \"B\"): 8},\n",
        "        (\"b\", \"b\"): {(\"A\", \"D\"): 9, (\"A\", \"B\"): 10},\n",
        "    }\n",
        ")"
      ],
      "metadata": {
        "id": "OzCuQAr5hqAn"
      },
      "execution_count": null,
      "outputs": []
    },
    {
      "cell_type": "markdown",
      "source": [
        "# Viewing Data"
      ],
      "metadata": {
        "id": "FXMnpw1ab2_7"
      }
    },
    {
      "cell_type": "code",
      "source": [
        "# Use DataFrame.head() and DataFrame.tail() to view the top and bottom rows of the frame respectively:\n",
        "\n",
        "df.head()\n",
        "\n",
        "df.tail()\n",
        "\n",
        "df.index\n",
        "\n",
        "df.columns"
      ],
      "metadata": {
        "id": "0s_knx6Hb2dM"
      },
      "execution_count": null,
      "outputs": []
    },
    {
      "cell_type": "markdown",
      "source": [
        "DataFrame.to_numpy() gives a NumPy representation of the underlying data. Note that this can be an expensive operation when your DataFrame has columns with different data types, which comes down to a fundamental difference between pandas and NumPy: NumPy arrays have one dtype for the entire array, while pandas DataFrames have one dtype per column. When you call DataFrame.to_numpy(), pandas will find the NumPy dtype that can hold all of the dtypes in the DataFrame. This may end up being object, which requires casting every value to a Python object."
      ],
      "metadata": {
        "id": "tMMWEb7ScTPR"
      }
    },
    {
      "cell_type": "code",
      "source": [
        "df.to_numpy()"
      ],
      "metadata": {
        "id": "rZbt5YlicU9n"
      },
      "execution_count": null,
      "outputs": []
    },
    {
      "cell_type": "code",
      "source": [
        "# Get fast summary statistics\n",
        "df.describe()"
      ],
      "metadata": {
        "id": "TSUixwGfccyi"
      },
      "execution_count": null,
      "outputs": []
    },
    {
      "cell_type": "code",
      "source": [
        "# Transpose your data\n",
        "df.T"
      ],
      "metadata": {
        "id": "KIPkiAvCciOZ"
      },
      "execution_count": null,
      "outputs": []
    },
    {
      "cell_type": "code",
      "source": [
        "# Sort By an axis\n",
        "df.sort_index(axis=1, ascending=False)"
      ],
      "metadata": {
        "id": "Yg7WpUHncmam"
      },
      "execution_count": null,
      "outputs": []
    },
    {
      "cell_type": "code",
      "source": [
        "# Sort by values\n",
        "df.sort_values(by='B')"
      ],
      "metadata": {
        "id": "JAkOH73sctJO"
      },
      "execution_count": null,
      "outputs": []
    },
    {
      "cell_type": "markdown",
      "source": [
        "# Selection"
      ],
      "metadata": {
        "id": "pGXL-dxmc1oq"
      }
    },
    {
      "cell_type": "markdown",
      "source": [
        "While standard Python / NumPy expressions for selecting and setting are intuitive and come in handy for interactive work, for production code, we recommend the optimized pandas data access methods, DataFrame.at(), DataFrame.iat(), DataFrame.loc() and DataFrame.iloc()."
      ],
      "metadata": {
        "id": "7maLomWac5zE"
      }
    },
    {
      "cell_type": "code",
      "source": [
        "df['A']"
      ],
      "metadata": {
        "id": "WjrS4VZnc35N"
      },
      "execution_count": null,
      "outputs": []
    },
    {
      "cell_type": "code",
      "source": [
        "df[0:3]\n",
        "\n",
        "df['20130102':'20130104']"
      ],
      "metadata": {
        "id": "IstV3lLedJes"
      },
      "execution_count": null,
      "outputs": []
    },
    {
      "cell_type": "code",
      "source": [
        "# Selection by Label\n",
        "df.loc[dates[0]]\n",
        "\n",
        "df.loc[, [\"A\", \"B\"]]"
      ],
      "metadata": {
        "id": "AyLKcGi8dVei"
      },
      "execution_count": null,
      "outputs": []
    },
    {
      "cell_type": "code",
      "source": [
        "df.loc[\"20130102\":\"20130104\", [\"A\", \"B\"]]"
      ],
      "metadata": {
        "id": "rSfWp0BEdmBH"
      },
      "execution_count": null,
      "outputs": []
    },
    {
      "cell_type": "code",
      "source": [
        "df.loc[\"20130102\", [\"A\", \"B\"]]"
      ],
      "metadata": {
        "id": "jYhgTVzRdpHU"
      },
      "execution_count": null,
      "outputs": []
    },
    {
      "cell_type": "code",
      "source": [
        "# Selecting by position\n",
        "df.iloc[3:5, 0:2]\n",
        "\n",
        "df.iloc[[1, 2, 4], [0, 2]]\n",
        "\n",
        "df.iloc[1:3, :]\n",
        "\n",
        "df.iloc[:, 1:3]"
      ],
      "metadata": {
        "id": "Q6ltiJ1qdtoA"
      },
      "execution_count": null,
      "outputs": []
    },
    {
      "cell_type": "code",
      "source": [
        "# Boolean Indexing\n",
        "df[df[\"A\"] > 0]\n",
        "\n",
        "df[df > 0]"
      ],
      "metadata": {
        "id": "SC9wCeH1d57d"
      },
      "execution_count": null,
      "outputs": []
    },
    {
      "cell_type": "code",
      "source": [
        "# Boolean filtering\n",
        "\n",
        "df2 = df.copy()\n",
        "\n",
        "df2[\"E\"] = [\"one\", \"one\", \"two\", \"three\", \"four\", \"three\"]\n",
        "\n",
        "df2\n",
        "\n",
        "df2[df2[\"E\"].isin([\"two\", \"four\"])]"
      ],
      "metadata": {
        "id": "PojTiRvxeJpz"
      },
      "execution_count": null,
      "outputs": []
    },
    {
      "cell_type": "markdown",
      "source": [
        "# Setting"
      ],
      "metadata": {
        "id": "dt9jncQOee4L"
      }
    },
    {
      "cell_type": "code",
      "source": [
        "# Setting a new column automatically ali9gns the data by the indexes\n",
        "\n",
        "s1 = pd.Series([1, 2, 3, 4, 5, 6], index=pd.date_range(\"20130102\", periods=6))\n",
        "\n",
        "df[\"F\"] = s1"
      ],
      "metadata": {
        "id": "f2UCZwaqegw-"
      },
      "execution_count": null,
      "outputs": []
    },
    {
      "cell_type": "code",
      "source": [
        "# Setting a values by label\n",
        "df.at[dates[0], \"A\"] = 0"
      ],
      "metadata": {
        "id": "TEKiyqFveyen"
      },
      "execution_count": null,
      "outputs": []
    },
    {
      "cell_type": "code",
      "source": [
        "# Setting Values by position\n",
        "df.iat[0, 1] = 0"
      ],
      "metadata": {
        "id": "h_lczfoGe3FB"
      },
      "execution_count": null,
      "outputs": []
    }
  ]
}